{
 "cells": [
  {
   "cell_type": "code",
   "execution_count": 1,
   "metadata": {},
   "outputs": [
    {
     "data": {
      "text/plain": [
       "(569, 30)"
      ]
     },
     "execution_count": 1,
     "metadata": {},
     "output_type": "execute_result"
    }
   ],
   "source": [
    "import numpy as np\n",
    "from sklearn import decomposition, datasets\n",
    "from sklearn.preprocessing import StandardScaler\n",
    "data = datasets.load_breast_cancer()\n",
    "cancer = data.data \n",
    "cancer = StandardScaler().fit_transform(cancer)\n",
    "cancer.shape"
   ]
  },
  {
   "cell_type": "code",
   "execution_count": 2,
   "metadata": {},
   "outputs": [
    {
     "data": {
      "text/plain": [
       "(569, 30)"
      ]
     },
     "execution_count": 2,
     "metadata": {},
     "output_type": "execute_result"
    }
   ],
   "source": [
    "cancer.shape"
   ]
  },
  {
   "cell_type": "code",
   "execution_count": 3,
   "metadata": {},
   "outputs": [
    {
     "data": {
      "text/plain": [
       "array([[17.99],\n",
       "       [20.57],\n",
       "       [19.69],\n",
       "       [11.42],\n",
       "       [20.29],\n",
       "       [12.45],\n",
       "       [18.25],\n",
       "       [13.71],\n",
       "       [13.  ],\n",
       "       [12.46]])"
      ]
     },
     "execution_count": 3,
     "metadata": {},
     "output_type": "execute_result"
    }
   ],
   "source": [
    "before_transformation = data.data\n",
    "before_transformation[:10, :1]"
   ]
  },
  {
   "cell_type": "code",
   "execution_count": 4,
   "metadata": {},
   "outputs": [
    {
     "data": {
      "text/plain": [
       "array([[ 1.09706398],\n",
       "       [ 1.82982061],\n",
       "       [ 1.57988811],\n",
       "       [-0.76890929],\n",
       "       [ 1.75029663],\n",
       "       [-0.47637467],\n",
       "       [ 1.17090767],\n",
       "       [-0.11851678],\n",
       "       [-0.32016686],\n",
       "       [-0.47353452]])"
      ]
     },
     "execution_count": 4,
     "metadata": {},
     "output_type": "execute_result"
    }
   ],
   "source": [
    "cancer[:10, :1]"
   ]
  },
  {
   "cell_type": "code",
   "execution_count": 5,
   "metadata": {},
   "outputs": [],
   "source": [
    "#covariance matrix\n",
    "covariance_matrix = np.cov(cancer, rowvar=False)"
   ]
  },
  {
   "cell_type": "code",
   "execution_count": 6,
   "metadata": {},
   "outputs": [
    {
     "data": {
      "text/plain": [
       "(30, 30)"
      ]
     },
     "execution_count": 6,
     "metadata": {},
     "output_type": "execute_result"
    }
   ],
   "source": [
    "covariance_matrix.shape"
   ]
  },
  {
   "cell_type": "code",
   "execution_count": 7,
   "metadata": {},
   "outputs": [
    {
     "data": {
      "text/plain": [
       "(569, 569)"
      ]
     },
     "execution_count": 7,
     "metadata": {},
     "output_type": "execute_result"
    }
   ],
   "source": [
    "np.cov(cancer).shape"
   ]
  },
  {
   "cell_type": "code",
   "execution_count": 8,
   "metadata": {},
   "outputs": [],
   "source": [
    "eig_val_cov, eig_vec_cov = np.linalg.eig(covariance_matrix)"
   ]
  },
  {
   "cell_type": "code",
   "execution_count": 9,
   "metadata": {},
   "outputs": [
    {
     "data": {
      "text/plain": [
       "array([1.33049908e+01, 5.70137460e+00, 2.82291016e+00, 1.98412752e+00,\n",
       "       1.65163324e+00, 1.20948224e+00, 6.76408882e-01, 4.77456255e-01,\n",
       "       4.17628782e-01, 3.51310875e-01, 2.94433153e-01, 2.61621161e-01,\n",
       "       2.41782421e-01, 1.57286149e-01, 9.43006956e-02, 8.00034045e-02,\n",
       "       5.95036135e-02, 5.27114222e-02, 4.95647002e-02, 1.33279057e-04,\n",
       "       7.50121413e-04, 1.59213600e-03, 6.91261258e-03, 8.19203712e-03,\n",
       "       1.55085271e-02, 1.80867940e-02, 2.43836914e-02, 2.74877113e-02,\n",
       "       3.12142606e-02, 3.00256631e-02])"
      ]
     },
     "execution_count": 9,
     "metadata": {},
     "output_type": "execute_result"
    }
   ],
   "source": [
    "eig_val_cov"
   ]
  },
  {
   "cell_type": "code",
   "execution_count": 10,
   "metadata": {},
   "outputs": [
    {
     "data": {
      "text/plain": [
       "(30,)"
      ]
     },
     "execution_count": 10,
     "metadata": {},
     "output_type": "execute_result"
    }
   ],
   "source": [
    "eig_val_cov.shape"
   ]
  },
  {
   "cell_type": "code",
   "execution_count": 11,
   "metadata": {},
   "outputs": [
    {
     "data": {
      "text/plain": [
       "(30, 30)"
      ]
     },
     "execution_count": 11,
     "metadata": {},
     "output_type": "execute_result"
    }
   ],
   "source": [
    "eig_vec_cov.shape"
   ]
  },
  {
   "cell_type": "code",
   "execution_count": 12,
   "metadata": {},
   "outputs": [],
   "source": [
    "eig_pairs = [(np.abs(eig_val_cov[i]), eig_vec_cov[:, i]) for i in range(len(eig_val_cov))]"
   ]
  },
  {
   "cell_type": "code",
   "execution_count": 13,
   "metadata": {},
   "outputs": [
    {
     "data": {
      "text/plain": [
       "[(13.304990794374561,\n",
       "  array([0.21890244, 0.10372458, 0.22753729, 0.22099499, 0.14258969,\n",
       "         0.23928535, 0.25840048, 0.26085376, 0.13816696, 0.06436335,\n",
       "         0.20597878, 0.01742803, 0.21132592, 0.20286964, 0.01453145,\n",
       "         0.17039345, 0.15358979, 0.1834174 , 0.04249842, 0.10256832,\n",
       "         0.22799663, 0.10446933, 0.23663968, 0.22487053, 0.12795256,\n",
       "         0.21009588, 0.22876753, 0.25088597, 0.12290456, 0.13178394])),\n",
       " (5.701374603726145,\n",
       "  array([-0.23385713, -0.05970609, -0.21518136, -0.23107671,  0.18611302,\n",
       "          0.15189161,  0.06016536, -0.0347675 ,  0.19034877,  0.36657547,\n",
       "         -0.10555215,  0.08997968, -0.08945723, -0.15229263,  0.20443045,\n",
       "          0.2327159 ,  0.19720728,  0.13032156,  0.183848  ,  0.28009203,\n",
       "         -0.21986638, -0.0454673 , -0.19987843, -0.21935186,  0.17230435,\n",
       "          0.14359317,  0.09796411, -0.00825724,  0.14188335,  0.27533947])),\n",
       " (2.822910155006231,\n",
       "  array([-0.00853124,  0.0645499 , -0.00931422,  0.02869953, -0.1042919 ,\n",
       "         -0.07409157,  0.00273384, -0.02556354, -0.04023994, -0.02257409,\n",
       "          0.26848139,  0.37463367,  0.26664537,  0.21600653,  0.30883898,\n",
       "          0.15477972,  0.17646374,  0.22465757,  0.28858429,  0.21150376,\n",
       "         -0.04750699, -0.04229782, -0.04854651, -0.01190232, -0.25979761,\n",
       "         -0.23607563, -0.17305734, -0.17034408, -0.27131264, -0.23279131]))]"
      ]
     },
     "execution_count": 13,
     "metadata": {},
     "output_type": "execute_result"
    }
   ],
   "source": [
    "eig_pairs[:3]"
   ]
  },
  {
   "cell_type": "code",
   "execution_count": 14,
   "metadata": {},
   "outputs": [
    {
     "name": "stdout",
     "output_type": "stream",
     "text": [
      "13.304990794374561\n",
      "5.701374603726145\n",
      "2.822910155006231\n",
      "1.9841275177301982\n",
      "1.651633242330119\n",
      "1.209482239802972\n",
      "0.6764088817009056\n",
      "0.47745625468950803\n",
      "0.41762878210781734\n",
      "0.3513108748817329\n",
      "0.29443315349116506\n",
      "0.261621161366121\n",
      "0.24178242132831373\n",
      "0.15728614921759285\n",
      "0.09430069560105592\n",
      "0.08000340447737676\n",
      "0.059503613530431945\n",
      "0.052711422210148115\n",
      "0.04956470021298144\n",
      "0.03121426055306657\n",
      "0.0300256630904285\n",
      "0.027487711338904305\n",
      "0.024383691354590953\n",
      "0.018086793984305315\n",
      "0.015508527134418915\n",
      "0.008192037117606788\n",
      "0.006912612579184366\n",
      "0.0015921360011975747\n",
      "0.000750121412719186\n",
      "0.00013327905666397818\n"
     ]
    }
   ],
   "source": [
    "sorted_pairs = sorted(eig_pairs, key=lambda x:x[0], reverse = True)\n",
    "for p in sorted_pairs:\n",
    "    print(p[0])"
   ]
  },
  {
   "cell_type": "code",
   "execution_count": 15,
   "metadata": {},
   "outputs": [],
   "source": [
    "matrix_w = np.hstack((sorted_pairs[0][1].reshape(30,1), sorted_pairs[1][1].reshape(30,1)))"
   ]
  },
  {
   "cell_type": "code",
   "execution_count": 16,
   "metadata": {},
   "outputs": [
    {
     "data": {
      "text/plain": [
       "(2, 30)"
      ]
     },
     "execution_count": 16,
     "metadata": {},
     "output_type": "execute_result"
    }
   ],
   "source": [
    "matrix_w.T.shape"
   ]
  },
  {
   "cell_type": "code",
   "execution_count": 17,
   "metadata": {},
   "outputs": [
    {
     "data": {
      "text/plain": [
       "(30,)"
      ]
     },
     "execution_count": 17,
     "metadata": {},
     "output_type": "execute_result"
    }
   ],
   "source": [
    "sorted_pairs[0][1].shape"
   ]
  },
  {
   "cell_type": "code",
   "execution_count": 18,
   "metadata": {},
   "outputs": [],
   "source": [
    "transformed = matrix_w.T.dot(cancer.T)"
   ]
  },
  {
   "cell_type": "code",
   "execution_count": 19,
   "metadata": {},
   "outputs": [
    {
     "data": {
      "text/plain": [
       "(2, 569)"
      ]
     },
     "execution_count": 19,
     "metadata": {},
     "output_type": "execute_result"
    }
   ],
   "source": [
    "transformed.shape"
   ]
  },
  {
   "cell_type": "code",
   "execution_count": 20,
   "metadata": {},
   "outputs": [
    {
     "data": {
      "text/plain": [
       "(569, 2)"
      ]
     },
     "execution_count": 20,
     "metadata": {},
     "output_type": "execute_result"
    }
   ],
   "source": [
    "transformed.T.shape"
   ]
  },
  {
   "cell_type": "code",
   "execution_count": 21,
   "metadata": {},
   "outputs": [
    {
     "data": {
      "text/plain": [
       "array([9.19283683, 1.94858307])"
      ]
     },
     "execution_count": 21,
     "metadata": {},
     "output_type": "execute_result"
    }
   ],
   "source": [
    "transformed.T[0]"
   ]
  },
  {
   "cell_type": "code",
   "execution_count": 22,
   "metadata": {},
   "outputs": [],
   "source": [
    "#Test the result with sklearn"
   ]
  },
  {
   "cell_type": "code",
   "execution_count": 23,
   "metadata": {},
   "outputs": [],
   "source": [
    "pca = decomposition.PCA(n_components=2)\n",
    "x_std = StandardScaler().fit_transform(cancer)\n"
   ]
  },
  {
   "cell_type": "code",
   "execution_count": 24,
   "metadata": {},
   "outputs": [
    {
     "data": {
      "text/plain": [
       "array([9.19283683, 1.94858307])"
      ]
     },
     "execution_count": 24,
     "metadata": {},
     "output_type": "execute_result"
    }
   ],
   "source": [
    "pca.fit_transform(x_std)[0]"
   ]
  }
 ],
 "metadata": {
  "kernelspec": {
   "display_name": "Python 3",
   "language": "python",
   "name": "python3"
  },
  "language_info": {
   "codemirror_mode": {
    "name": "ipython",
    "version": 3
   },
   "file_extension": ".py",
   "mimetype": "text/x-python",
   "name": "python",
   "nbconvert_exporter": "python",
   "pygments_lexer": "ipython3",
   "version": "3.7.6"
  }
 },
 "nbformat": 4,
 "nbformat_minor": 4
}
