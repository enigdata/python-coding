{
 "cells": [
  {
   "cell_type": "code",
   "execution_count": 17,
   "metadata": {},
   "outputs": [],
   "source": [
    "import os\n",
    "import sys\n",
    "import numpy as np \n",
    "import pandas as pd\n",
    "import matplotlib.pyplot as plt\n",
    "%matplotlib inline\n",
    "import chart_studio.plotly as py\n",
    "from plotly.offline import download_plotlyjs, init_notebook_mode, plot, iplot\n",
    "import cufflinks as cf \n",
    "import plotly.graph_objs as go"
   ]
  },
  {
   "cell_type": "code",
   "execution_count": 7,
   "metadata": {},
   "outputs": [
    {
     "data": {
      "text/html": [
       "        <script type=\"text/javascript\">\n",
       "        window.PlotlyConfig = {MathJaxConfig: 'local'};\n",
       "        if (window.MathJax) {MathJax.Hub.Config({SVG: {font: \"STIX-Web\"}});}\n",
       "        if (typeof require !== 'undefined') {\n",
       "        require.undef(\"plotly\");\n",
       "        requirejs.config({\n",
       "            paths: {\n",
       "                'plotly': ['https://cdn.plot.ly/plotly-latest.min']\n",
       "            }\n",
       "        });\n",
       "        require(['plotly'], function(Plotly) {\n",
       "            window._Plotly = Plotly;\n",
       "        });\n",
       "        }\n",
       "        </script>\n",
       "        "
      ]
     },
     "metadata": {},
     "output_type": "display_data"
    }
   ],
   "source": [
    "init_notebook_mode(connected=True)\n",
    "sys.path.append(\"\".join([os.environ[\"HOME\"]]))"
   ]
  },
  {
   "cell_type": "code",
   "execution_count": 8,
   "metadata": {},
   "outputs": [
    {
     "data": {
      "text/plain": [
       "['/Users/siliwang/github_local/python-coding/Numpy/numerical_computing_book',\n",
       " '/opt/anaconda3/lib/python37.zip',\n",
       " '/opt/anaconda3/lib/python3.7',\n",
       " '/opt/anaconda3/lib/python3.7/lib-dynload',\n",
       " '',\n",
       " '/Users/siliwang/.local/lib/python3.7/site-packages',\n",
       " '/opt/anaconda3/lib/python3.7/site-packages',\n",
       " '/opt/anaconda3/lib/python3.7/site-packages/IPython/extensions',\n",
       " '/Users/siliwang/.ipython',\n",
       " '/Users/siliwang']"
      ]
     },
     "execution_count": 8,
     "metadata": {},
     "output_type": "execute_result"
    }
   ],
   "source": [
    "sys.path"
   ]
  },
  {
   "cell_type": "code",
   "execution_count": 9,
   "metadata": {},
   "outputs": [
    {
     "data": {
      "text/plain": [
       "'/Users/siliwang'"
      ]
     },
     "execution_count": 9,
     "metadata": {},
     "output_type": "execute_result"
    }
   ],
   "source": [
    "os.environ[\"HOME\"]"
   ]
  },
  {
   "cell_type": "code",
   "execution_count": 10,
   "metadata": {},
   "outputs": [],
   "source": [
    "from sklearn.datasets import load_iris\n",
    "iris_data = load_iris()"
   ]
  },
  {
   "cell_type": "code",
   "execution_count": 11,
   "metadata": {},
   "outputs": [
    {
     "data": {
      "text/plain": [
       "['sepal length (cm)',\n",
       " 'sepal width (cm)',\n",
       " 'petal length (cm)',\n",
       " 'petal width (cm)']"
      ]
     },
     "execution_count": 11,
     "metadata": {},
     "output_type": "execute_result"
    }
   ],
   "source": [
    "iris_data.feature_names"
   ]
  },
  {
   "cell_type": "code",
   "execution_count": 13,
   "metadata": {},
   "outputs": [],
   "source": [
    "x = [v[0] for v in iris_data.data]\n",
    "y = [v[1] for v in iris_data.data]"
   ]
  },
  {
   "cell_type": "code",
   "execution_count": 15,
   "metadata": {},
   "outputs": [
    {
     "data": {
      "text/plain": [
       "'temp-plot.html'"
      ]
     },
     "execution_count": 15,
     "metadata": {},
     "output_type": "execute_result"
    }
   ],
   "source": [
    "trace = go.Scatter(\n",
    "    x = x,\n",
    "    y = y,\n",
    "    mode = 'markers'\n",
    ")\n",
    "\n",
    "layout = go.Layout(\n",
    "    title = 'Iris Dataset',\n",
    "    hovermode = 'closest',\n",
    "    xaxis = dict(\n",
    "        title = 'sepal length (cm)',\n",
    "        ticklen = 5,\n",
    "        zeroline = False,\n",
    "        gridwidth = 2,\n",
    "    ),\n",
    "    yaxis = dict(\n",
    "        title = 'sepal width (cm)',\n",
    "        ticklen = 5,\n",
    "        gridwidth = 2,\n",
    "    ),\n",
    "    showlegend = False\n",
    "    \n",
    ")\n",
    "\n",
    "data = [trace]\n",
    "\n",
    "fig = go.Figure(data = data, layout = layout)\n",
    "plot(fig)\n"
   ]
  },
  {
   "cell_type": "code",
   "execution_count": 18,
   "metadata": {},
   "outputs": [
    {
     "data": {
      "text/html": [
       "<div>\n",
       "<style scoped>\n",
       "    .dataframe tbody tr th:only-of-type {\n",
       "        vertical-align: middle;\n",
       "    }\n",
       "\n",
       "    .dataframe tbody tr th {\n",
       "        vertical-align: top;\n",
       "    }\n",
       "\n",
       "    .dataframe thead th {\n",
       "        text-align: right;\n",
       "    }\n",
       "</style>\n",
       "<table border=\"1\" class=\"dataframe\">\n",
       "  <thead>\n",
       "    <tr style=\"text-align: right;\">\n",
       "      <th></th>\n",
       "      <th>sepal length (cm)</th>\n",
       "      <th>sepal width (cm)</th>\n",
       "      <th>petal length (cm)</th>\n",
       "      <th>petal width (cm)</th>\n",
       "      <th>class</th>\n",
       "    </tr>\n",
       "  </thead>\n",
       "  <tbody>\n",
       "    <tr>\n",
       "      <th>0</th>\n",
       "      <td>5.1</td>\n",
       "      <td>3.5</td>\n",
       "      <td>1.4</td>\n",
       "      <td>0.2</td>\n",
       "      <td>setosa</td>\n",
       "    </tr>\n",
       "    <tr>\n",
       "      <th>1</th>\n",
       "      <td>4.9</td>\n",
       "      <td>3.0</td>\n",
       "      <td>1.4</td>\n",
       "      <td>0.2</td>\n",
       "      <td>setosa</td>\n",
       "    </tr>\n",
       "    <tr>\n",
       "      <th>2</th>\n",
       "      <td>4.7</td>\n",
       "      <td>3.2</td>\n",
       "      <td>1.3</td>\n",
       "      <td>0.2</td>\n",
       "      <td>setosa</td>\n",
       "    </tr>\n",
       "    <tr>\n",
       "      <th>3</th>\n",
       "      <td>4.6</td>\n",
       "      <td>3.1</td>\n",
       "      <td>1.5</td>\n",
       "      <td>0.2</td>\n",
       "      <td>setosa</td>\n",
       "    </tr>\n",
       "    <tr>\n",
       "      <th>4</th>\n",
       "      <td>5.0</td>\n",
       "      <td>3.6</td>\n",
       "      <td>1.4</td>\n",
       "      <td>0.2</td>\n",
       "      <td>setosa</td>\n",
       "    </tr>\n",
       "  </tbody>\n",
       "</table>\n",
       "</div>"
      ],
      "text/plain": [
       "   sepal length (cm)  sepal width (cm)  petal length (cm)  petal width (cm)  \\\n",
       "0                5.1               3.5                1.4               0.2   \n",
       "1                4.9               3.0                1.4               0.2   \n",
       "2                4.7               3.2                1.3               0.2   \n",
       "3                4.6               3.1                1.5               0.2   \n",
       "4                5.0               3.6                1.4               0.2   \n",
       "\n",
       "    class  \n",
       "0  setosa  \n",
       "1  setosa  \n",
       "2  setosa  \n",
       "3  setosa  \n",
       "4  setosa  "
      ]
     },
     "execution_count": 18,
     "metadata": {},
     "output_type": "execute_result"
    }
   ],
   "source": [
    "df = pd.DataFrame(iris_data.data, columns = ['sepal length (cm)','sepal width (cm)','petal length (cm)','petal width (cm)']\n",
    "                 )\n",
    "df['class'] = [iris_data.target_names[i] for i in iris_data.target]\n",
    "df.head()"
   ]
  },
  {
   "cell_type": "code",
   "execution_count": 19,
   "metadata": {},
   "outputs": [
    {
     "data": {
      "text/plain": [
       "'temp-plot.html'"
      ]
     },
     "execution_count": 19,
     "metadata": {},
     "output_type": "execute_result"
    }
   ],
   "source": [
    "import plotly.figure_factory as ff\n",
    "fig = ff.create_scatterplotmatrix(df, index='class', diag='histogram', size=10, height=800, width=800) \n",
    "\n",
    "plot(fig)"
   ]
  },
  {
   "cell_type": "code",
   "execution_count": 22,
   "metadata": {},
   "outputs": [
    {
     "data": {
      "text/plain": [
       "'temp-plot.html'"
      ]
     },
     "execution_count": 22,
     "metadata": {},
     "output_type": "execute_result"
    }
   ],
   "source": [
    "###3D\n",
    "trace1 = go.Scatter3d( \n",
    "    # Extracting data based on label \n",
    "    x=[x[0][0] for x in zip(iris_data.data, iris_data.target) if x[1] == 0], \n",
    "    y=[x[0][2] for x in zip(iris_data.data, iris_data.target) if x[1] == 0], \n",
    "    z=[x[0][3] for x in zip(iris_data.data, iris_data.target) if x[1] == 0], \n",
    "    mode='markers', \n",
    "    marker=dict( \n",
    "        size=12, \n",
    "        line=dict( \n",
    "            color='rgba(217, 217, 217, 0.14)', \n",
    "            width=0.5 \n",
    "        ), \n",
    "        opacity=0.8 \n",
    "    ) \n",
    ") \n",
    " \n",
    "trace2 = go.Scatter3d( \n",
    "    # Extracting data based on label \n",
    "    x=[x[0][0] for x in zip(iris_data.data, iris_data.target) if x[1] == 1], \n",
    "    y=[x[0][2] for x in zip(iris_data.data, iris_data.target) if x[1] == 1], \n",
    "    z=[x[0][3] for x in zip(iris_data.data, iris_data.target) if x[1] == 1], \n",
    "    mode='markers', \n",
    "    marker=dict( \n",
    "        color='#3742fa', \n",
    "        size=12, \n",
    "        symbol='circle', \n",
    "        line=dict( \n",
    "            color='rgb(204, 204, 204)', \n",
    "            width=1 \n",
    "        ), \n",
    "        opacity=0.9 \n",
    "    ) \n",
    ") \n",
    " \n",
    "trace3 = go.Scatter3d( \n",
    "    # Extracting data based on label \n",
    "    x=[x[0][0] for x in zip(iris_data.data, iris_data.target) if x[1] == 2], \n",
    "    y=[x[0][2] for x in zip(iris_data.data, iris_data.target) if x[1] == 2], \n",
    "    z=[x[0][3] for x in zip(iris_data.data, iris_data.target) if x[1] == 2], \n",
    "    mode='markers', \n",
    "    marker=dict( \n",
    "        color='#ff4757', \n",
    "        size=12, \n",
    "        symbol='circle', \n",
    "        line=dict( \n",
    "            color='rgb(104, 74, 114)', \n",
    "            width=1 \n",
    "        ), \n",
    "        opacity=0.9 \n",
    "    ) \n",
    ") \n",
    " \n",
    "data = [trace1, trace2, trace3] \n",
    " \n",
    "# Layout settings \n",
    "layout = go.Layout( \n",
    "    scene = dict( \n",
    "        xaxis = dict( \n",
    "            title= 'sepal length (cm)'), \n",
    "        yaxis = dict( \n",
    "            title= 'petal length (cm)'), \n",
    "        zaxis = dict( \n",
    "            title= 'petal width (cm)'),), \n",
    ") \n",
    " \n",
    "fig = go.Figure(data=data, layout=layout) \n",
    "plot(fig)"
   ]
  }
 ],
 "metadata": {
  "kernelspec": {
   "display_name": "Python 3",
   "language": "python",
   "name": "python3"
  },
  "language_info": {
   "codemirror_mode": {
    "name": "ipython",
    "version": 3
   },
   "file_extension": ".py",
   "mimetype": "text/x-python",
   "name": "python",
   "nbconvert_exporter": "python",
   "pygments_lexer": "ipython3",
   "version": "3.7.6"
  }
 },
 "nbformat": 4,
 "nbformat_minor": 4
}
