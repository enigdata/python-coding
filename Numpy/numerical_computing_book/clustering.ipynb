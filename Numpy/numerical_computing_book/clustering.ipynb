{
 "cells": [
  {
   "cell_type": "code",
   "execution_count": 1,
   "metadata": {},
   "outputs": [],
   "source": [
    "import os\n",
    "import sys\n",
    "import numpy as np \n",
    "import pandas as pd\n",
    "import matplotlib.pyplot as plt\n",
    "%matplotlib inline\n",
    "import chart_studio.plotly as py\n",
    "from plotly.offline import download_plotlyjs, init_notebook_mode, plot, iplot\n",
    "import cufflinks as cf \n",
    "import plotly.graph_objs as go"
   ]
  },
  {
   "cell_type": "code",
   "execution_count": 2,
   "metadata": {},
   "outputs": [
    {
     "data": {
      "text/html": [
       "        <script type=\"text/javascript\">\n",
       "        window.PlotlyConfig = {MathJaxConfig: 'local'};\n",
       "        if (window.MathJax) {MathJax.Hub.Config({SVG: {font: \"STIX-Web\"}});}\n",
       "        if (typeof require !== 'undefined') {\n",
       "        require.undef(\"plotly\");\n",
       "        requirejs.config({\n",
       "            paths: {\n",
       "                'plotly': ['https://cdn.plot.ly/plotly-latest.min']\n",
       "            }\n",
       "        });\n",
       "        require(['plotly'], function(Plotly) {\n",
       "            window._Plotly = Plotly;\n",
       "        });\n",
       "        }\n",
       "        </script>\n",
       "        "
      ]
     },
     "metadata": {},
     "output_type": "display_data"
    }
   ],
   "source": [
    "init_notebook_mode(connected=True)\n",
    "sys.path.append(\"\".join([os.environ[\"HOME\"]]))"
   ]
  },
  {
   "cell_type": "code",
   "execution_count": 3,
   "metadata": {},
   "outputs": [
    {
     "data": {
      "text/plain": [
       "['/Users/siliwang/github_local/python-coding/Numpy/numerical_computing_book',\n",
       " '/opt/anaconda3/lib/python37.zip',\n",
       " '/opt/anaconda3/lib/python3.7',\n",
       " '/opt/anaconda3/lib/python3.7/lib-dynload',\n",
       " '',\n",
       " '/Users/siliwang/.local/lib/python3.7/site-packages',\n",
       " '/opt/anaconda3/lib/python3.7/site-packages',\n",
       " '/opt/anaconda3/lib/python3.7/site-packages/IPython/extensions',\n",
       " '/Users/siliwang/.ipython',\n",
       " '/Users/siliwang']"
      ]
     },
     "execution_count": 3,
     "metadata": {},
     "output_type": "execute_result"
    }
   ],
   "source": [
    "sys.path"
   ]
  },
  {
   "cell_type": "code",
   "execution_count": 4,
   "metadata": {},
   "outputs": [
    {
     "data": {
      "text/plain": [
       "'/Users/siliwang'"
      ]
     },
     "execution_count": 4,
     "metadata": {},
     "output_type": "execute_result"
    }
   ],
   "source": [
    "os.environ[\"HOME\"]"
   ]
  },
  {
   "cell_type": "code",
   "execution_count": 5,
   "metadata": {},
   "outputs": [],
   "source": [
    "from sklearn.datasets import load_iris\n",
    "iris_data = load_iris()"
   ]
  },
  {
   "cell_type": "code",
   "execution_count": 6,
   "metadata": {},
   "outputs": [
    {
     "data": {
      "text/plain": [
       "['sepal length (cm)',\n",
       " 'sepal width (cm)',\n",
       " 'petal length (cm)',\n",
       " 'petal width (cm)']"
      ]
     },
     "execution_count": 6,
     "metadata": {},
     "output_type": "execute_result"
    }
   ],
   "source": [
    "iris_data.feature_names"
   ]
  },
  {
   "cell_type": "code",
   "execution_count": 7,
   "metadata": {},
   "outputs": [],
   "source": [
    "x = [v[0] for v in iris_data.data]\n",
    "y = [v[1] for v in iris_data.data]"
   ]
  },
  {
   "cell_type": "code",
   "execution_count": 8,
   "metadata": {},
   "outputs": [
    {
     "data": {
      "text/plain": [
       "'temp-plot.html'"
      ]
     },
     "execution_count": 8,
     "metadata": {},
     "output_type": "execute_result"
    }
   ],
   "source": [
    "trace = go.Scatter(\n",
    "    x = x,\n",
    "    y = y,\n",
    "    mode = 'markers'\n",
    ")\n",
    "\n",
    "layout = go.Layout(\n",
    "    title = 'Iris Dataset',\n",
    "    hovermode = 'closest',\n",
    "    xaxis = dict(\n",
    "        title = 'sepal length (cm)',\n",
    "        ticklen = 5,\n",
    "        zeroline = False,\n",
    "        gridwidth = 2,\n",
    "    ),\n",
    "    yaxis = dict(\n",
    "        title = 'sepal width (cm)',\n",
    "        ticklen = 5,\n",
    "        gridwidth = 2,\n",
    "    ),\n",
    "    showlegend = False\n",
    "    \n",
    ")\n",
    "\n",
    "data = [trace]\n",
    "\n",
    "fig = go.Figure(data = data, layout = layout)\n",
    "plot(fig)"
   ]
  },
  {
   "cell_type": "code",
   "execution_count": 9,
   "metadata": {},
   "outputs": [
    {
     "data": {
      "text/html": [
       "<div>\n",
       "<style scoped>\n",
       "    .dataframe tbody tr th:only-of-type {\n",
       "        vertical-align: middle;\n",
       "    }\n",
       "\n",
       "    .dataframe tbody tr th {\n",
       "        vertical-align: top;\n",
       "    }\n",
       "\n",
       "    .dataframe thead th {\n",
       "        text-align: right;\n",
       "    }\n",
       "</style>\n",
       "<table border=\"1\" class=\"dataframe\">\n",
       "  <thead>\n",
       "    <tr style=\"text-align: right;\">\n",
       "      <th></th>\n",
       "      <th>sepal length (cm)</th>\n",
       "      <th>sepal width (cm)</th>\n",
       "      <th>petal length (cm)</th>\n",
       "      <th>petal width (cm)</th>\n",
       "      <th>class</th>\n",
       "    </tr>\n",
       "  </thead>\n",
       "  <tbody>\n",
       "    <tr>\n",
       "      <th>0</th>\n",
       "      <td>5.1</td>\n",
       "      <td>3.5</td>\n",
       "      <td>1.4</td>\n",
       "      <td>0.2</td>\n",
       "      <td>setosa</td>\n",
       "    </tr>\n",
       "    <tr>\n",
       "      <th>1</th>\n",
       "      <td>4.9</td>\n",
       "      <td>3.0</td>\n",
       "      <td>1.4</td>\n",
       "      <td>0.2</td>\n",
       "      <td>setosa</td>\n",
       "    </tr>\n",
       "    <tr>\n",
       "      <th>2</th>\n",
       "      <td>4.7</td>\n",
       "      <td>3.2</td>\n",
       "      <td>1.3</td>\n",
       "      <td>0.2</td>\n",
       "      <td>setosa</td>\n",
       "    </tr>\n",
       "    <tr>\n",
       "      <th>3</th>\n",
       "      <td>4.6</td>\n",
       "      <td>3.1</td>\n",
       "      <td>1.5</td>\n",
       "      <td>0.2</td>\n",
       "      <td>setosa</td>\n",
       "    </tr>\n",
       "    <tr>\n",
       "      <th>4</th>\n",
       "      <td>5.0</td>\n",
       "      <td>3.6</td>\n",
       "      <td>1.4</td>\n",
       "      <td>0.2</td>\n",
       "      <td>setosa</td>\n",
       "    </tr>\n",
       "  </tbody>\n",
       "</table>\n",
       "</div>"
      ],
      "text/plain": [
       "   sepal length (cm)  sepal width (cm)  petal length (cm)  petal width (cm)  \\\n",
       "0                5.1               3.5                1.4               0.2   \n",
       "1                4.9               3.0                1.4               0.2   \n",
       "2                4.7               3.2                1.3               0.2   \n",
       "3                4.6               3.1                1.5               0.2   \n",
       "4                5.0               3.6                1.4               0.2   \n",
       "\n",
       "    class  \n",
       "0  setosa  \n",
       "1  setosa  \n",
       "2  setosa  \n",
       "3  setosa  \n",
       "4  setosa  "
      ]
     },
     "execution_count": 9,
     "metadata": {},
     "output_type": "execute_result"
    }
   ],
   "source": [
    "df = pd.DataFrame(iris_data.data, columns = ['sepal length (cm)','sepal width (cm)','petal length (cm)','petal width (cm)']\n",
    "                 )\n",
    "df['class'] = [iris_data.target_names[i] for i in iris_data.target]\n",
    "df.head()"
   ]
  },
  {
   "cell_type": "code",
   "execution_count": 10,
   "metadata": {},
   "outputs": [
    {
     "data": {
      "text/plain": [
       "'temp-plot.html'"
      ]
     },
     "execution_count": 10,
     "metadata": {},
     "output_type": "execute_result"
    }
   ],
   "source": [
    "import plotly.figure_factory as ff\n",
    "fig = ff.create_scatterplotmatrix(df, index='class', diag='histogram', size=10, height=800, width=800) \n",
    "\n",
    "plot(fig)"
   ]
  },
  {
   "cell_type": "code",
   "execution_count": 11,
   "metadata": {},
   "outputs": [
    {
     "data": {
      "text/plain": [
       "'temp-plot.html'"
      ]
     },
     "execution_count": 11,
     "metadata": {},
     "output_type": "execute_result"
    }
   ],
   "source": [
    "###3D\n",
    "trace1 = go.Scatter3d( \n",
    "    # Extracting data based on label \n",
    "    x=[x[0][0] for x in zip(iris_data.data, iris_data.target) if x[1] == 0], \n",
    "    y=[x[0][2] for x in zip(iris_data.data, iris_data.target) if x[1] == 0], \n",
    "    z=[x[0][3] for x in zip(iris_data.data, iris_data.target) if x[1] == 0], \n",
    "    mode='markers', \n",
    "    marker=dict( \n",
    "        size=12, \n",
    "        line=dict( \n",
    "            color='rgba(217, 217, 217, 0.14)', \n",
    "            width=0.5 \n",
    "        ), \n",
    "        opacity=0.8 \n",
    "    ) \n",
    ") \n",
    " \n",
    "trace2 = go.Scatter3d( \n",
    "    # Extracting data based on label \n",
    "    x=[x[0][0] for x in zip(iris_data.data, iris_data.target) if x[1] == 1], \n",
    "    y=[x[0][2] for x in zip(iris_data.data, iris_data.target) if x[1] == 1], \n",
    "    z=[x[0][3] for x in zip(iris_data.data, iris_data.target) if x[1] == 1], \n",
    "    mode='markers', \n",
    "    marker=dict( \n",
    "        color='#3742fa', \n",
    "        size=12, \n",
    "        symbol='circle', \n",
    "        line=dict( \n",
    "            color='rgb(204, 204, 204)', \n",
    "            width=1 \n",
    "        ), \n",
    "        opacity=0.9 \n",
    "    ) \n",
    ") \n",
    " \n",
    "trace3 = go.Scatter3d( \n",
    "    # Extracting data based on label \n",
    "    x=[x[0][0] for x in zip(iris_data.data, iris_data.target) if x[1] == 2], \n",
    "    y=[x[0][2] for x in zip(iris_data.data, iris_data.target) if x[1] == 2], \n",
    "    z=[x[0][3] for x in zip(iris_data.data, iris_data.target) if x[1] == 2], \n",
    "    mode='markers', \n",
    "    marker=dict( \n",
    "        color='#ff4757', \n",
    "        size=12, \n",
    "        symbol='circle', \n",
    "        line=dict( \n",
    "            color='rgb(104, 74, 114)', \n",
    "            width=1 \n",
    "        ), \n",
    "        opacity=0.9 \n",
    "    ) \n",
    ") \n",
    " \n",
    "data = [trace1, trace2, trace3] \n",
    " \n",
    "# Layout settings \n",
    "layout = go.Layout( \n",
    "    scene = dict( \n",
    "        xaxis = dict( \n",
    "            title= 'sepal length (cm)'), \n",
    "        yaxis = dict( \n",
    "            title= 'petal length (cm)'), \n",
    "        zaxis = dict( \n",
    "            title= 'petal width (cm)'),), \n",
    ") \n",
    " \n",
    "fig = go.Figure(data=data, layout=layout) \n",
    "plot(fig)"
   ]
  },
  {
   "cell_type": "markdown",
   "metadata": {},
   "source": [
    "### K-means Clustering"
   ]
  },
  {
   "cell_type": "code",
   "execution_count": 12,
   "metadata": {},
   "outputs": [],
   "source": [
    "data = [1,2,3,2,1,3,9,8,11,12,10,11,14,25,26,24,30,22,24,27] "
   ]
  },
  {
   "cell_type": "code",
   "execution_count": 13,
   "metadata": {},
   "outputs": [
    {
     "data": {
      "text/plain": [
       "'temp-plot.html'"
      ]
     },
     "execution_count": 13,
     "metadata": {},
     "output_type": "execute_result"
    }
   ],
   "source": [
    "trace1 = go.Scatter( \n",
    "    x=data, \n",
    "    y=[0 for x in data], \n",
    "    mode='markers', \n",
    "    name='Data', \n",
    "    marker=dict( \n",
    "        size=12 \n",
    "    ) \n",
    ") \n",
    "\n",
    "layout = go.Layout( \n",
    "title='1D vector',\n",
    ")\n",
    "\n",
    "traces = [trace1]\n",
    "\n",
    "fig = go.Figure(data=traces, layout=layout)\n",
    "\n",
    "plot(fig)"
   ]
  },
  {
   "cell_type": "code",
   "execution_count": 14,
   "metadata": {},
   "outputs": [
    {
     "name": "stdout",
     "output_type": "stream",
     "text": [
      "[27 24 10]\n"
     ]
    }
   ],
   "source": [
    "#Find 3 clusters which are visible in the data\n",
    "n_clusters = 3 \n",
    "c_centers = np.random.choice(data, n_clusters)\n",
    "print(c_centers)"
   ]
  },
  {
   "cell_type": "code",
   "execution_count": 15,
   "metadata": {},
   "outputs": [
    {
     "data": {
      "text/plain": [
       "array([[26, 23,  9],\n",
       "       [25, 22,  8],\n",
       "       [24, 21,  7],\n",
       "       [25, 22,  8],\n",
       "       [26, 23,  9],\n",
       "       [24, 21,  7],\n",
       "       [18, 15,  1],\n",
       "       [19, 16,  2],\n",
       "       [16, 13,  1],\n",
       "       [15, 12,  2],\n",
       "       [17, 14,  0],\n",
       "       [16, 13,  1],\n",
       "       [13, 10,  4],\n",
       "       [ 2,  1, 15],\n",
       "       [ 1,  2, 16],\n",
       "       [ 3,  0, 14],\n",
       "       [ 3,  6, 20],\n",
       "       [ 5,  2, 12],\n",
       "       [ 3,  0, 14],\n",
       "       [ 0,  3, 17]])"
      ]
     },
     "execution_count": 15,
     "metadata": {},
     "output_type": "execute_result"
    }
   ],
   "source": [
    "deltas = np.array([np.abs(point- c_centers) for point in data])\n",
    "deltas"
   ]
  },
  {
   "cell_type": "code",
   "execution_count": 16,
   "metadata": {},
   "outputs": [
    {
     "data": {
      "text/plain": [
       "array([2, 2, 2, 2, 2, 2, 2, 2, 2, 2, 2, 2, 2, 1, 0, 1, 0, 1, 1, 0])"
      ]
     },
     "execution_count": 16,
     "metadata": {},
     "output_type": "execute_result"
    }
   ],
   "source": [
    "deltas.argmin(1)"
   ]
  },
  {
   "cell_type": "code",
   "execution_count": 17,
   "metadata": {},
   "outputs": [],
   "source": [
    "data = np.array(data)"
   ]
  },
  {
   "cell_type": "code",
   "execution_count": 18,
   "metadata": {},
   "outputs": [],
   "source": [
    "c_centers = np.array([data[np.where(deltas.argmin(1) == i)[0]].mean() for i in range(3)])"
   ]
  },
  {
   "cell_type": "code",
   "execution_count": 19,
   "metadata": {},
   "outputs": [
    {
     "data": {
      "text/plain": [
       "array([27.66666667, 23.75      ,  6.69230769])"
      ]
     },
     "execution_count": 19,
     "metadata": {},
     "output_type": "execute_result"
    }
   ],
   "source": [
    "c_centers"
   ]
  },
  {
   "cell_type": "code",
   "execution_count": 20,
   "metadata": {},
   "outputs": [],
   "source": [
    "def Kmeans_1D(X, n_clusters, random_seed=442):\n",
    "    c_centers = np.random.choice(X, n_clusters)\n",
    "    \n",
    "    #calculate the distance between each point and cluster centers\n",
    "    deltas = np.array([np.abs(point - c_centers) for point in X])\n",
    "    \n",
    "    #get labels for each point\n",
    "    labels = deltas.argmin(1)\n",
    "    print(labels)\n",
    "    while True:\n",
    "        new_c_centers = np.array([X[np.where(deltas.argmin(1) == i)[0]].mean() for i in range(n_clusters)])\n",
    "        \n",
    "        #calculate distances again\n",
    "        deltas = np.array([np.abs(point - new_c_centers) for point in X])\n",
    "        \n",
    "        labels = deltas.argmin(1)\n",
    "        \n",
    "        if np.all(c_centers == new_c_centers):\n",
    "            break \n",
    "        c_centers = new_c_centers\n",
    "        print(c_centers)\n",
    "        \n",
    "    return c_centers"
   ]
  },
  {
   "cell_type": "code",
   "execution_count": 21,
   "metadata": {},
   "outputs": [
    {
     "data": {
      "text/plain": [
       "array([ 1,  2,  3,  2,  1,  3,  9,  8, 11, 12, 10, 11, 14, 25, 26, 24, 30,\n",
       "       22, 24, 27])"
      ]
     },
     "execution_count": 21,
     "metadata": {},
     "output_type": "execute_result"
    }
   ],
   "source": [
    "X = data\n",
    "X"
   ]
  },
  {
   "cell_type": "code",
   "execution_count": 22,
   "metadata": {},
   "outputs": [
    {
     "name": "stdout",
     "output_type": "stream",
     "text": [
      "[1 1 1 1 1 1 1 1 1 1 1 1 1 2 2 0 2 0 0 2]\n",
      "[23.33333333  6.69230769 27.        ]\n",
      "[23.75        6.69230769 27.66666667]\n"
     ]
    },
    {
     "data": {
      "text/plain": [
       "array([23.75      ,  6.69230769, 27.66666667])"
      ]
     },
     "execution_count": 22,
     "metadata": {},
     "output_type": "execute_result"
    }
   ],
   "source": [
    "Kmeans_1D(X, 3)"
   ]
  },
  {
   "cell_type": "markdown",
   "metadata": {},
   "source": [
    "### Multiple Variables"
   ]
  },
  {
   "cell_type": "code",
   "execution_count": 23,
   "metadata": {},
   "outputs": [],
   "source": [
    "from numpy import genfromtxt\n",
    "data = genfromtxt('Wholesale customers data.csv', delimiter = ',', skip_header=1)"
   ]
  },
  {
   "cell_type": "code",
   "execution_count": 24,
   "metadata": {},
   "outputs": [
    {
     "data": {
      "text/plain": [
       "array([[2.0000e+00, 3.0000e+00, 1.2669e+04, 9.6560e+03, 7.5610e+03,\n",
       "        2.1400e+02, 2.6740e+03, 1.3380e+03],\n",
       "       [2.0000e+00, 3.0000e+00, 7.0570e+03, 9.8100e+03, 9.5680e+03,\n",
       "        1.7620e+03, 3.2930e+03, 1.7760e+03],\n",
       "       [2.0000e+00, 3.0000e+00, 6.3530e+03, 8.8080e+03, 7.6840e+03,\n",
       "        2.4050e+03, 3.5160e+03, 7.8440e+03],\n",
       "       [1.0000e+00, 3.0000e+00, 1.3265e+04, 1.1960e+03, 4.2210e+03,\n",
       "        6.4040e+03, 5.0700e+02, 1.7880e+03],\n",
       "       [2.0000e+00, 3.0000e+00, 2.2615e+04, 5.4100e+03, 7.1980e+03,\n",
       "        3.9150e+03, 1.7770e+03, 5.1850e+03]])"
      ]
     },
     "execution_count": 24,
     "metadata": {},
     "output_type": "execute_result"
    }
   ],
   "source": [
    "data[:5]"
   ]
  },
  {
   "cell_type": "code",
   "execution_count": 25,
   "metadata": {},
   "outputs": [
    {
     "data": {
      "text/plain": [
       "(440, 8)"
      ]
     },
     "execution_count": 25,
     "metadata": {},
     "output_type": "execute_result"
    }
   ],
   "source": [
    "data.shape"
   ]
  },
  {
   "cell_type": "code",
   "execution_count": 26,
   "metadata": {},
   "outputs": [],
   "source": [
    "data_norm = data/np.linalg.norm(data)"
   ]
  },
  {
   "cell_type": "code",
   "execution_count": 27,
   "metadata": {},
   "outputs": [
    {
     "data": {
      "text/html": [
       "<div>\n",
       "<style scoped>\n",
       "    .dataframe tbody tr th:only-of-type {\n",
       "        vertical-align: middle;\n",
       "    }\n",
       "\n",
       "    .dataframe tbody tr th {\n",
       "        vertical-align: top;\n",
       "    }\n",
       "\n",
       "    .dataframe thead th {\n",
       "        text-align: right;\n",
       "    }\n",
       "</style>\n",
       "<table border=\"1\" class=\"dataframe\">\n",
       "  <thead>\n",
       "    <tr style=\"text-align: right;\">\n",
       "      <th></th>\n",
       "      <th>Channel</th>\n",
       "      <th>Region</th>\n",
       "      <th>Fresh</th>\n",
       "      <th>Milk</th>\n",
       "      <th>Grocery</th>\n",
       "      <th>Frozen</th>\n",
       "      <th>Detergents_Paper</th>\n",
       "      <th>Delicatessen</th>\n",
       "    </tr>\n",
       "  </thead>\n",
       "  <tbody>\n",
       "    <tr>\n",
       "      <th>0</th>\n",
       "      <td>0.000004</td>\n",
       "      <td>0.000006</td>\n",
       "      <td>0.024274</td>\n",
       "      <td>0.018501</td>\n",
       "      <td>0.014487</td>\n",
       "      <td>0.000410</td>\n",
       "      <td>0.005124</td>\n",
       "      <td>0.002564</td>\n",
       "    </tr>\n",
       "    <tr>\n",
       "      <th>1</th>\n",
       "      <td>0.000004</td>\n",
       "      <td>0.000006</td>\n",
       "      <td>0.013522</td>\n",
       "      <td>0.018796</td>\n",
       "      <td>0.018333</td>\n",
       "      <td>0.003376</td>\n",
       "      <td>0.006310</td>\n",
       "      <td>0.003403</td>\n",
       "    </tr>\n",
       "    <tr>\n",
       "      <th>2</th>\n",
       "      <td>0.000004</td>\n",
       "      <td>0.000006</td>\n",
       "      <td>0.012173</td>\n",
       "      <td>0.016877</td>\n",
       "      <td>0.014723</td>\n",
       "      <td>0.004608</td>\n",
       "      <td>0.006737</td>\n",
       "      <td>0.015029</td>\n",
       "    </tr>\n",
       "    <tr>\n",
       "      <th>3</th>\n",
       "      <td>0.000002</td>\n",
       "      <td>0.000006</td>\n",
       "      <td>0.025416</td>\n",
       "      <td>0.002292</td>\n",
       "      <td>0.008088</td>\n",
       "      <td>0.012270</td>\n",
       "      <td>0.000971</td>\n",
       "      <td>0.003426</td>\n",
       "    </tr>\n",
       "    <tr>\n",
       "      <th>4</th>\n",
       "      <td>0.000004</td>\n",
       "      <td>0.000006</td>\n",
       "      <td>0.043331</td>\n",
       "      <td>0.010366</td>\n",
       "      <td>0.013792</td>\n",
       "      <td>0.007501</td>\n",
       "      <td>0.003405</td>\n",
       "      <td>0.009935</td>\n",
       "    </tr>\n",
       "  </tbody>\n",
       "</table>\n",
       "</div>"
      ],
      "text/plain": [
       "    Channel    Region     Fresh      Milk   Grocery    Frozen  \\\n",
       "0  0.000004  0.000006  0.024274  0.018501  0.014487  0.000410   \n",
       "1  0.000004  0.000006  0.013522  0.018796  0.018333  0.003376   \n",
       "2  0.000004  0.000006  0.012173  0.016877  0.014723  0.004608   \n",
       "3  0.000002  0.000006  0.025416  0.002292  0.008088  0.012270   \n",
       "4  0.000004  0.000006  0.043331  0.010366  0.013792  0.007501   \n",
       "\n",
       "   Detergents_Paper  Delicatessen  \n",
       "0          0.005124      0.002564  \n",
       "1          0.006310      0.003403  \n",
       "2          0.006737      0.015029  \n",
       "3          0.000971      0.003426  \n",
       "4          0.003405      0.009935  "
      ]
     },
     "execution_count": 27,
     "metadata": {},
     "output_type": "execute_result"
    }
   ],
   "source": [
    "df= pd.DataFrame(data_norm, \n",
    "                columns=['Channel','Region','Fresh','Milk','Grocery','Frozen','Detergents_Paper','Delicatessen'])\n",
    "df.head()"
   ]
  },
  {
   "cell_type": "code",
   "execution_count": 28,
   "metadata": {},
   "outputs": [
    {
     "data": {
      "text/html": [
       "<div>\n",
       "<style scoped>\n",
       "    .dataframe tbody tr th:only-of-type {\n",
       "        vertical-align: middle;\n",
       "    }\n",
       "\n",
       "    .dataframe tbody tr th {\n",
       "        vertical-align: top;\n",
       "    }\n",
       "\n",
       "    .dataframe thead th {\n",
       "        text-align: right;\n",
       "    }\n",
       "</style>\n",
       "<table border=\"1\" class=\"dataframe\">\n",
       "  <thead>\n",
       "    <tr style=\"text-align: right;\">\n",
       "      <th></th>\n",
       "      <th>Channel</th>\n",
       "      <th>Region</th>\n",
       "      <th>Fresh</th>\n",
       "      <th>Milk</th>\n",
       "      <th>Grocery</th>\n",
       "      <th>Frozen</th>\n",
       "      <th>Detergents_Paper</th>\n",
       "      <th>Delicatessen</th>\n",
       "    </tr>\n",
       "  </thead>\n",
       "  <tbody>\n",
       "    <tr>\n",
       "      <th>Channel</th>\n",
       "      <td>1.000000</td>\n",
       "      <td>0.062028</td>\n",
       "      <td>-0.169172</td>\n",
       "      <td>0.460720</td>\n",
       "      <td>0.608792</td>\n",
       "      <td>-0.202046</td>\n",
       "      <td>0.636026</td>\n",
       "      <td>0.056011</td>\n",
       "    </tr>\n",
       "    <tr>\n",
       "      <th>Region</th>\n",
       "      <td>0.062028</td>\n",
       "      <td>1.000000</td>\n",
       "      <td>0.055287</td>\n",
       "      <td>0.032288</td>\n",
       "      <td>0.007696</td>\n",
       "      <td>-0.021044</td>\n",
       "      <td>-0.001483</td>\n",
       "      <td>0.045212</td>\n",
       "    </tr>\n",
       "    <tr>\n",
       "      <th>Fresh</th>\n",
       "      <td>-0.169172</td>\n",
       "      <td>0.055287</td>\n",
       "      <td>1.000000</td>\n",
       "      <td>0.100510</td>\n",
       "      <td>-0.011854</td>\n",
       "      <td>0.345881</td>\n",
       "      <td>-0.101953</td>\n",
       "      <td>0.244690</td>\n",
       "    </tr>\n",
       "    <tr>\n",
       "      <th>Milk</th>\n",
       "      <td>0.460720</td>\n",
       "      <td>0.032288</td>\n",
       "      <td>0.100510</td>\n",
       "      <td>1.000000</td>\n",
       "      <td>0.728335</td>\n",
       "      <td>0.123994</td>\n",
       "      <td>0.661816</td>\n",
       "      <td>0.406368</td>\n",
       "    </tr>\n",
       "    <tr>\n",
       "      <th>Grocery</th>\n",
       "      <td>0.608792</td>\n",
       "      <td>0.007696</td>\n",
       "      <td>-0.011854</td>\n",
       "      <td>0.728335</td>\n",
       "      <td>1.000000</td>\n",
       "      <td>-0.040193</td>\n",
       "      <td>0.924641</td>\n",
       "      <td>0.205497</td>\n",
       "    </tr>\n",
       "    <tr>\n",
       "      <th>Frozen</th>\n",
       "      <td>-0.202046</td>\n",
       "      <td>-0.021044</td>\n",
       "      <td>0.345881</td>\n",
       "      <td>0.123994</td>\n",
       "      <td>-0.040193</td>\n",
       "      <td>1.000000</td>\n",
       "      <td>-0.131525</td>\n",
       "      <td>0.390947</td>\n",
       "    </tr>\n",
       "    <tr>\n",
       "      <th>Detergents_Paper</th>\n",
       "      <td>0.636026</td>\n",
       "      <td>-0.001483</td>\n",
       "      <td>-0.101953</td>\n",
       "      <td>0.661816</td>\n",
       "      <td>0.924641</td>\n",
       "      <td>-0.131525</td>\n",
       "      <td>1.000000</td>\n",
       "      <td>0.069291</td>\n",
       "    </tr>\n",
       "    <tr>\n",
       "      <th>Delicatessen</th>\n",
       "      <td>0.056011</td>\n",
       "      <td>0.045212</td>\n",
       "      <td>0.244690</td>\n",
       "      <td>0.406368</td>\n",
       "      <td>0.205497</td>\n",
       "      <td>0.390947</td>\n",
       "      <td>0.069291</td>\n",
       "      <td>1.000000</td>\n",
       "    </tr>\n",
       "  </tbody>\n",
       "</table>\n",
       "</div>"
      ],
      "text/plain": [
       "                   Channel    Region     Fresh      Milk   Grocery    Frozen  \\\n",
       "Channel           1.000000  0.062028 -0.169172  0.460720  0.608792 -0.202046   \n",
       "Region            0.062028  1.000000  0.055287  0.032288  0.007696 -0.021044   \n",
       "Fresh            -0.169172  0.055287  1.000000  0.100510 -0.011854  0.345881   \n",
       "Milk              0.460720  0.032288  0.100510  1.000000  0.728335  0.123994   \n",
       "Grocery           0.608792  0.007696 -0.011854  0.728335  1.000000 -0.040193   \n",
       "Frozen           -0.202046 -0.021044  0.345881  0.123994 -0.040193  1.000000   \n",
       "Detergents_Paper  0.636026 -0.001483 -0.101953  0.661816  0.924641 -0.131525   \n",
       "Delicatessen      0.056011  0.045212  0.244690  0.406368  0.205497  0.390947   \n",
       "\n",
       "                  Detergents_Paper  Delicatessen  \n",
       "Channel                   0.636026      0.056011  \n",
       "Region                   -0.001483      0.045212  \n",
       "Fresh                    -0.101953      0.244690  \n",
       "Milk                      0.661816      0.406368  \n",
       "Grocery                   0.924641      0.205497  \n",
       "Frozen                   -0.131525      0.390947  \n",
       "Detergents_Paper          1.000000      0.069291  \n",
       "Delicatessen              0.069291      1.000000  "
      ]
     },
     "execution_count": 28,
     "metadata": {},
     "output_type": "execute_result"
    }
   ],
   "source": [
    "df.corr()"
   ]
  },
  {
   "cell_type": "code",
   "execution_count": 29,
   "metadata": {},
   "outputs": [
    {
     "data": {
      "image/png": "[encoded data removed]",
      "text/plain": [
       "<Figure size 432x288 with 2 Axes>"
      ]
     },
     "metadata": {},
     "output_type": "display_data"
    }
   ],
   "source": [
    "import seaborn as sns; sns.set()\n",
    "ax = sns.heatmap(df.corr(), cmap = \"YlGnBu\", annot=True)"
   ]
  },
  {
   "cell_type": "code",
   "execution_count": 30,
   "metadata": {},
   "outputs": [],
   "source": [
    "df = df[[col for col in df.columns if col not in ['Channel', 'Region']]]"
   ]
  },
  {
   "cell_type": "code",
   "execution_count": 31,
   "metadata": {},
   "outputs": [
    {
     "data": {
      "text/html": [
       "<div>\n",
       "<style scoped>\n",
       "    .dataframe tbody tr th:only-of-type {\n",
       "        vertical-align: middle;\n",
       "    }\n",
       "\n",
       "    .dataframe tbody tr th {\n",
       "        vertical-align: top;\n",
       "    }\n",
       "\n",
       "    .dataframe thead th {\n",
       "        text-align: right;\n",
       "    }\n",
       "</style>\n",
       "<table border=\"1\" class=\"dataframe\">\n",
       "  <thead>\n",
       "    <tr style=\"text-align: right;\">\n",
       "      <th></th>\n",
       "      <th>Fresh</th>\n",
       "      <th>Milk</th>\n",
       "      <th>Grocery</th>\n",
       "      <th>Frozen</th>\n",
       "      <th>Detergents_Paper</th>\n",
       "      <th>Delicatessen</th>\n",
       "    </tr>\n",
       "  </thead>\n",
       "  <tbody>\n",
       "    <tr>\n",
       "      <th>0</th>\n",
       "      <td>0.024274</td>\n",
       "      <td>0.018501</td>\n",
       "      <td>0.014487</td>\n",
       "      <td>0.000410</td>\n",
       "      <td>0.005124</td>\n",
       "      <td>0.002564</td>\n",
       "    </tr>\n",
       "    <tr>\n",
       "      <th>1</th>\n",
       "      <td>0.013522</td>\n",
       "      <td>0.018796</td>\n",
       "      <td>0.018333</td>\n",
       "      <td>0.003376</td>\n",
       "      <td>0.006310</td>\n",
       "      <td>0.003403</td>\n",
       "    </tr>\n",
       "    <tr>\n",
       "      <th>2</th>\n",
       "      <td>0.012173</td>\n",
       "      <td>0.016877</td>\n",
       "      <td>0.014723</td>\n",
       "      <td>0.004608</td>\n",
       "      <td>0.006737</td>\n",
       "      <td>0.015029</td>\n",
       "    </tr>\n",
       "    <tr>\n",
       "      <th>3</th>\n",
       "      <td>0.025416</td>\n",
       "      <td>0.002292</td>\n",
       "      <td>0.008088</td>\n",
       "      <td>0.012270</td>\n",
       "      <td>0.000971</td>\n",
       "      <td>0.003426</td>\n",
       "    </tr>\n",
       "    <tr>\n",
       "      <th>4</th>\n",
       "      <td>0.043331</td>\n",
       "      <td>0.010366</td>\n",
       "      <td>0.013792</td>\n",
       "      <td>0.007501</td>\n",
       "      <td>0.003405</td>\n",
       "      <td>0.009935</td>\n",
       "    </tr>\n",
       "  </tbody>\n",
       "</table>\n",
       "</div>"
      ],
      "text/plain": [
       "      Fresh      Milk   Grocery    Frozen  Detergents_Paper  Delicatessen\n",
       "0  0.024274  0.018501  0.014487  0.000410          0.005124      0.002564\n",
       "1  0.013522  0.018796  0.018333  0.003376          0.006310      0.003403\n",
       "2  0.012173  0.016877  0.014723  0.004608          0.006737      0.015029\n",
       "3  0.025416  0.002292  0.008088  0.012270          0.000971      0.003426\n",
       "4  0.043331  0.010366  0.013792  0.007501          0.003405      0.009935"
      ]
     },
     "execution_count": 31,
     "metadata": {},
     "output_type": "execute_result"
    }
   ],
   "source": [
    "df.head()"
   ]
  },
  {
   "cell_type": "code",
   "execution_count": 32,
   "metadata": {},
   "outputs": [
    {
     "data": {
      "text/plain": [
       "array([[2.42743830e-02, 1.85013373e-02, 1.44872216e-02, 4.10033781e-04,\n",
       "        5.12350622e-03, 2.56366915e-03],\n",
       "       [1.35215345e-02, 1.87964084e-02, 1.83327253e-02, 3.37607253e-03,\n",
       "        6.30953851e-03, 3.40289717e-03],\n",
       "       [1.21726384e-02, 1.68765306e-02, 1.47228952e-02, 4.60808992e-03,\n",
       "        6.73681670e-03, 1.50294625e-02],\n",
       "       ...,\n",
       "       [2.78420601e-02, 2.96757159e-02, 5.79469703e-02, 8.37311973e-04,\n",
       "        2.84360343e-02, 3.57725733e-03],\n",
       "       [1.97161103e-02, 3.79568654e-03, 4.27661401e-03, 1.98885544e-03,\n",
       "        3.21895679e-04, 4.07159712e-03],\n",
       "       [5.34001938e-03, 3.25344561e-03, 4.80927472e-03, 1.24542971e-04,\n",
       "        9.13953802e-04, 9.96343767e-05]])"
      ]
     },
     "execution_count": 32,
     "metadata": {},
     "output_type": "execute_result"
    }
   ],
   "source": [
    "np.array(df)"
   ]
  },
  {
   "cell_type": "code",
   "execution_count": 33,
   "metadata": {},
   "outputs": [],
   "source": [
    "def Kmeans_nD(X, n_clusters, random_seed = 442):\n",
    "    random_state = np.random.RandomState(random_seed)\n",
    "    indices = random_state.permutation(X.shape[0])[:n_clusters]\n",
    "    c_centers = X[indices]\n",
    "    \n",
    "    deltas = np.array([[np.linalg.norm(feature_vector - c) for c in c_centers] for feature_vector in X])\n",
    "    \n",
    "    labels = deltas.argmin(1)\n",
    "    \n",
    "    while True:\n",
    "        new_c_centers = np.array(\n",
    "            [X[np.where(deltas.argmin(1) == i)[0]].mean(axis=0) for i in range(n_clusters)]\n",
    "        )\n",
    "        \n",
    "        deltas = np.array(\n",
    "            [[np.linalg.norm(feature_vector -c) for c in new_c_centers] for feature_vector in X]\n",
    "        )\n",
    "        \n",
    "        labels = deltas.argmin(1)\n",
    "        \n",
    "        if np.array_equal(c_centers, new_c_centers):\n",
    "            break\n",
    "        c_centers = new_c_centers\n",
    "        \n",
    "    return c_centers\n",
    "    "
   ]
  },
  {
   "cell_type": "code",
   "execution_count": 34,
   "metadata": {},
   "outputs": [
    {
     "data": {
      "text/plain": [
       "array([[0.03143009, 0.01275259],\n",
       "       [0.00729638, 0.0018119 ],\n",
       "       [0.09228042, 0.04475029]])"
      ]
     },
     "execution_count": 34,
     "metadata": {},
     "output_type": "execute_result"
    }
   ],
   "source": [
    "Kmeans_nD(df[['Grocery', 'Detergents_Paper']].values, 3)"
   ]
  }
 ],
 "metadata": {
  "kernelspec": {
   "display_name": "Python 3",
   "language": "python",
   "name": "python3"
  },
  "language_info": {
   "codemirror_mode": {
    "name": "ipython",
    "version": 3
   },
   "file_extension": ".py",
   "mimetype": "text/x-python",
   "name": "python",
   "nbconvert_exporter": "python",
   "pygments_lexer": "ipython3",
   "version": "3.7.6"
  }
 },
 "nbformat": 4,
 "nbformat_minor": 4
}
